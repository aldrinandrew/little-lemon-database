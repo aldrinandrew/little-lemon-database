{
 "cells": [
  {
   "cell_type": "code",
   "execution_count": 17,
   "metadata": {},
   "outputs": [],
   "source": [
    "import mysql.connector as conn"
   ]
  },
  {
   "cell_type": "code",
   "execution_count": 18,
   "metadata": {},
   "outputs": [
    {
     "name": "stdout",
     "output_type": "stream",
     "text": [
      "Connected to MySQL database\n"
     ]
    }
   ],
   "source": [
    "try:\n",
    "    # Attempt to establish a connection to the MySQL database\n",
    "    conn =conn.connect(host='localhost', \n",
    "                                   port=3305,\n",
    "                                   database='littlelemondb',\n",
    "                                   user='root',\n",
    "                                   password='P@ssw0rd')\n",
    "    \n",
    "    # Check if the connection is successfully established\n",
    "    if conn.is_connected():\n",
    "        print('Connected to MySQL database')\n",
    "\n",
    "except conn.Error as e:\n",
    "    # Print an error message if a connection error occurs\n",
    "    print(e)\n",
    "\n",
    "finally:\n",
    "    # Close the database connection in the 'finally' block to ensure it happens\n",
    "    if conn is not None and conn.is_connected():\n",
    "        conn.close()"
   ]
  },
  {
   "cell_type": "code",
   "execution_count": 19,
   "metadata": {},
   "outputs": [],
   "source": [
    "conn.connect()"
   ]
  },
  {
   "cell_type": "code",
   "execution_count": 20,
   "metadata": {},
   "outputs": [
    {
     "data": {
      "text/plain": [
       "True"
      ]
     },
     "execution_count": 20,
     "metadata": {},
     "output_type": "execute_result"
    }
   ],
   "source": [
    "conn.is_connected()"
   ]
  },
  {
   "cell_type": "code",
   "execution_count": 21,
   "metadata": {},
   "outputs": [],
   "source": [
    "cursor = conn.cursor()"
   ]
  },
  {
   "cell_type": "code",
   "execution_count": 26,
   "metadata": {},
   "outputs": [],
   "source": [
    "cursor.execute(\"use littlelemondb\")"
   ]
  },
  {
   "cell_type": "markdown",
   "metadata": {},
   "source": [
    "<H1> TaskTwo\n",
    "<h3>Query the database to show all tables within the database.</h3>"
   ]
  },
  {
   "cell_type": "code",
   "execution_count": 27,
   "metadata": {},
   "outputs": [],
   "source": [
    "show_tables_query = \"show tables\"\n",
    "cursor.execute(show_tables_query)"
   ]
  },
  {
   "cell_type": "code",
   "execution_count": 28,
   "metadata": {},
   "outputs": [
    {
     "name": "stdout",
     "output_type": "stream",
     "text": [
      "[('bookings',), ('customers',), ('menu',), ('menuitem',), ('orderdeliverystatus',), ('orders',), ('ordersview',), ('staff',), ('test',)]\n"
     ]
    }
   ],
   "source": [
    "results =cursor.fetchall()\n",
    "print(results)"
   ]
  },
  {
   "cell_type": "markdown",
   "metadata": {},
   "source": [
    ">> Task3\n",
    "Need to return specific detals from database"
   ]
  },
  {
   "cell_type": "code",
   "execution_count": 30,
   "metadata": {},
   "outputs": [],
   "source": [
    "bill_amount_more_60 = \"\"\" \n",
    "select bookings.boockingID,\n",
    "           bookings.TableNumber,\n",
    "           bookings.CustomerID,\n",
    "           orders.TotalCost\n",
    "           from bookings\n",
    "           left join orders on bookings.BoockingID = orders.BookinID\n",
    "           where orders.TotalCost > 60\n",
    "\"\"\""
   ]
  },
  {
   "cell_type": "code",
   "execution_count": null,
   "metadata": {},
   "outputs": [],
   "source": [
    "cursor.excute(bill_amount_more_60)"
   ]
  },
  {
   "cell_type": "code",
   "execution_count": null,
   "metadata": {},
   "outputs": [],
   "source": [
    "results= cursor.fetchall()"
   ]
  },
  {
   "cell_type": "code",
   "execution_count": null,
   "metadata": {},
   "outputs": [],
   "source": [
    "print(cursor.column_names)\n",
    "print(results)"
   ]
  }
 ],
 "metadata": {
  "kernelspec": {
   "display_name": "Python 3",
   "language": "python",
   "name": "python3"
  },
  "language_info": {
   "codemirror_mode": {
    "name": "ipython",
    "version": 3
   },
   "file_extension": ".py",
   "mimetype": "text/x-python",
   "name": "python",
   "nbconvert_exporter": "python",
   "pygments_lexer": "ipython3",
   "version": "3.10.5"
  }
 },
 "nbformat": 4,
 "nbformat_minor": 2
}
